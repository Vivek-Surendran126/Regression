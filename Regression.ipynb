{
 "cells": [
  {
   "cell_type": "code",
   "execution_count": 2,
   "id": "0173c399-91a3-462a-94e8-c18f09c3cf8e",
   "metadata": {},
   "outputs": [],
   "source": [
    "from sklearn.datasets import fetch_california_housing\n",
    "import pandas as pd\n",
    "\n",
    "# Loading dataset\n",
    "housing = fetch_california_housing()\n",
    "\n",
    "# Convert to pandas \n",
    "df = pd.DataFrame(housing.data, columns=housing.feature_names)\n",
    "df['Target'] = housing.target  #target variable"
   ]
  },
  {
   "cell_type": "code",
   "execution_count": 8,
   "id": "05ffa27b-e847-4939-9da3-afff33779bb6",
   "metadata": {},
   "outputs": [
    {
     "name": "stdout",
     "output_type": "stream",
     "text": [
      "Missing values:\n",
      " MedInc        0\n",
      "HouseAge      0\n",
      "AveRooms      0\n",
      "AveBedrms     0\n",
      "Population    0\n",
      "AveOccup      0\n",
      "Latitude      0\n",
      "Longitude     0\n",
      "Target        0\n",
      "dtype: int64\n"
     ]
    }
   ],
   "source": [
    "# Checking missing values\n",
    "missing_values = df.isnull().sum()\n",
    "print(\"Missing values:\\n\", missing_values)\n",
    "\n",
    "df.fillna(df.mean(), inplace=True)"
   ]
  },
  {
   "cell_type": "code",
   "execution_count": 10,
   "id": "81acd64d-afcf-4a64-b0aa-9c115b9e693d",
   "metadata": {},
   "outputs": [],
   "source": [
    "from sklearn.preprocessing import StandardScaler\n",
    "\n",
    "# Initialize scaler\n",
    "scaler = StandardScaler()\n",
    "\n",
    "# Apply standardization\n",
    "df[df.columns[:-1]] = scaler.fit_transform(df[df.columns[:-1]])"
   ]
  },
  {
   "cell_type": "code",
   "execution_count": 12,
   "id": "3b52b051-b489-4724-b96a-19eaac219260",
   "metadata": {},
   "outputs": [
    {
     "name": "stdout",
     "output_type": "stream",
     "text": [
      "Linear Regression R² Score: 0.575787706032451\n"
     ]
    }
   ],
   "source": [
    "#linear regression\n",
    "from sklearn.linear_model import LinearRegression\n",
    "from sklearn.model_selection import train_test_split\n",
    "\n",
    "# Split data\n",
    "X = df.drop(columns=['Target'])\n",
    "y = df['Target']\n",
    "X_train, X_test, y_train, y_test = train_test_split(X, y, test_size=0.2, random_state=42)\n",
    "\n",
    "# Train model\n",
    "lr = LinearRegression()\n",
    "lr.fit(X_train, y_train)\n",
    "\n",
    "# Evaluate\n",
    "lr_score = lr.score(X_test, y_test)\n",
    "print(\"Linear Regression R² Score:\", lr_score)"
   ]
  },
  {
   "cell_type": "code",
   "execution_count": 14,
   "id": "906497b2-071c-428b-84af-502b4372331c",
   "metadata": {},
   "outputs": [
    {
     "name": "stdout",
     "output_type": "stream",
     "text": [
      "Decision Tree R² Score: 0.6228111330554302\n"
     ]
    }
   ],
   "source": [
    "#Decision tree regression\n",
    "from sklearn.tree import DecisionTreeRegressor\n",
    "\n",
    "# Train model\n",
    "dt = DecisionTreeRegressor(random_state=42)\n",
    "dt.fit(X_train, y_train)\n",
    "\n",
    "# Evaluate\n",
    "dt_score = dt.score(X_test, y_test)\n",
    "print(\"Decision Tree R² Score:\", dt_score)"
   ]
  },
  {
   "cell_type": "code",
   "execution_count": 18,
   "id": "6d843b60-428b-4f2c-b4dd-0af13f483f68",
   "metadata": {},
   "outputs": [
    {
     "name": "stdout",
     "output_type": "stream",
     "text": [
      "Random Forest R² Score: 0.805024407701793\n"
     ]
    }
   ],
   "source": [
    "#random forest regression\n",
    "from sklearn.ensemble import RandomForestRegressor\n",
    "\n",
    "# Train model\n",
    "rf = RandomForestRegressor(n_estimators=100, random_state=42)\n",
    "rf.fit(X_train, y_train)\n",
    "\n",
    "# Evaluate\n",
    "rf_score = rf.score(X_test, y_test)\n",
    "print(\"Random Forest R² Score:\", rf_score)"
   ]
  },
  {
   "cell_type": "code",
   "execution_count": 21,
   "id": "70a91cf8-f608-4223-8cfc-a61ce6624f36",
   "metadata": {},
   "outputs": [
    {
     "name": "stdout",
     "output_type": "stream",
     "text": [
      "Gradient Boosting R² Score: 0.7756433164710084\n"
     ]
    }
   ],
   "source": [
    "#gradient boosting regression\n",
    "from sklearn.ensemble import GradientBoostingRegressor\n",
    "\n",
    "# Train model\n",
    "gb = GradientBoostingRegressor(n_estimators=100, random_state=42)\n",
    "gb.fit(X_train, y_train)\n",
    "\n",
    "# Evaluate\n",
    "gb_score = gb.score(X_test, y_test)\n",
    "print(\"Gradient Boosting R² Score:\", gb_score)"
   ]
  },
  {
   "cell_type": "code",
   "execution_count": 23,
   "id": "caad5831-7d2f-4fd7-8f0e-456e20f6c874",
   "metadata": {},
   "outputs": [
    {
     "name": "stdout",
     "output_type": "stream",
     "text": [
      "SVR R² Score: 0.7289407597956454\n"
     ]
    }
   ],
   "source": [
    "#svr\n",
    "from sklearn.svm import SVR\n",
    "\n",
    "# Train model\n",
    "svr = SVR(kernel='rbf')\n",
    "svr.fit(X_train, y_train)\n",
    "\n",
    "# Evaluate\n",
    "svr_score = svr.score(X_test, y_test)\n",
    "print(\"SVR R² Score:\", svr_score)"
   ]
  },
  {
   "cell_type": "code",
   "execution_count": 25,
   "id": "a5851b0e-db14-440a-8cb2-f20b6ed5c8bb",
   "metadata": {},
   "outputs": [],
   "source": [
    "#Evaluation metrics\n",
    "from sklearn.metrics import mean_squared_error, mean_absolute_error, r2_score\n",
    "\n",
    "# Function to evaluate models\n",
    "def evaluate_model(model, X_test, y_test):\n",
    "    y_pred = model.predict(X_test)\n",
    "    mse = mean_squared_error(y_test, y_pred)\n",
    "    mae = mean_absolute_error(y_test, y_pred)\n",
    "    r2 = r2_score(y_test, y_pred)\n",
    "    return mse, mae, r2\n",
    "\n",
    "# Evaluate all models\n",
    "models = {\n",
    "    \"Linear Regression\": lr,\n",
    "    \"Decision Tree\": dt,\n",
    "    \"Random Forest\": rf,\n",
    "    \"Gradient Boosting\": gb,\n",
    "    \"SVR\": svr\n",
    "}\n",
    "\n",
    "results = {name: evaluate_model(m, X_test, y_test) for name, m in models.items()}"
   ]
  },
  {
   "cell_type": "code",
   "execution_count": 27,
   "id": "c2c69df9-95c5-4609-bc14-82c6752a31af",
   "metadata": {},
   "outputs": [
    {
     "name": "stdout",
     "output_type": "stream",
     "text": [
      "                        MSE       MAE        R²\n",
      "Linear Regression  0.555892  0.533200  0.575788\n",
      "Decision Tree      0.494272  0.453784  0.622811\n",
      "Random Forest      0.255498  0.327613  0.805024\n",
      "Gradient Boosting  0.293999  0.371650  0.775643\n",
      "SVR                0.355198  0.397763  0.728941\n"
     ]
    }
   ],
   "source": [
    "#display evaluation matrics\n",
    "import pandas as pd\n",
    "\n",
    "# Create DataFrame for comparison\n",
    "df_results = pd.DataFrame(results, index=[\"MSE\", \"MAE\", \"R²\"]).T\n",
    "print(df_results)"
   ]
  },
  {
   "cell_type": "code",
   "execution_count": null,
   "id": "06e1b6a4-db37-43a9-b0e0-ff995f61fe82",
   "metadata": {},
   "outputs": [],
   "source": []
  }
 ],
 "metadata": {
  "kernelspec": {
   "display_name": "Python [conda env:base] *",
   "language": "python",
   "name": "conda-base-py"
  },
  "language_info": {
   "codemirror_mode": {
    "name": "ipython",
    "version": 3
   },
   "file_extension": ".py",
   "mimetype": "text/x-python",
   "name": "python",
   "nbconvert_exporter": "python",
   "pygments_lexer": "ipython3",
   "version": "3.12.7"
  }
 },
 "nbformat": 4,
 "nbformat_minor": 5
}
